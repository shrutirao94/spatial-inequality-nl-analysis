{
 "cells": [
  {
   "cell_type": "markdown",
   "id": "0974601c-a06e-41cf-bbc4-ab46824a1235",
   "metadata": {},
   "source": [
    "# Cleanup Methodology\n",
    "\n",
    "1. Delete the first 17 columns\n",
    "2. Delete rows 1 and 2\n",
    "3. Delete rows that have 0 information\n",
    "4. Delete columns that have 0 information\n",
    "5. Rename columns\n",
    "\n",
    "\n",
    "\n",
    "Some analysis for the image retrival "
   ]
  },
  {
   "cell_type": "code",
   "execution_count": 1,
   "id": "582d7aba-c722-4045-af4b-73564ccd7c8d",
   "metadata": {},
   "outputs": [],
   "source": [
    "import pandas as pd\n",
    "import numpy as np\n",
    "\n",
    "pd.set_option('display.max_rows', None)\n",
    "pd.set_option('display.max_columns', None)"
   ]
  },
  {
   "cell_type": "code",
   "execution_count": 2,
   "id": "50e87ef6-1ad6-4656-9d5f-53f2a52da606",
   "metadata": {},
   "outputs": [],
   "source": [
    "data = pd.read_csv(\"data/2033-02-02.csv\", header=1)"
   ]
  },
  {
   "cell_type": "markdown",
   "id": "639d9d75-32f2-414d-9c3b-0b712265b036",
   "metadata": {},
   "source": [
    "# Drop Unwanted Columns and Rows"
   ]
  },
  {
   "cell_type": "code",
   "execution_count": 3,
   "id": "37df51c4-8768-4230-886c-bd151ff20961",
   "metadata": {},
   "outputs": [],
   "source": [
    "drop_columns=['Start Date', 'End Date', 'Response Type', 'IP Address', 'Progress',\n",
    "              'Duration (in seconds)', 'Finished', 'Recorded Date', 'Response ID',\n",
    "              'Recipient Last Name', 'Recipient First Name', 'Recipient Email',\n",
    "              'External Data Reference','Location Latitude', 'Location Longitude',\n",
    "              'Distribution Channel','User Language', \n",
    "              'Imagine a regular weekday during the COVID-19 pandemic. Please take a piece of paper and draw a quick sketch of the spaces in your home that your children use for studying. In your sketch, please include any items that may support or hinder studying (example: furniture, windows, plant, or even people). See an example below.    Next, mark parts of the space in your sketch that you find supportive of learning with a ✔, and the parts that are distracting with a ✗ .    Please take a photo of this sketch and upload it below.  (Answer not mandatory) - ID',\n",
    "              'Imagine a regular weekday during the COVID-19 pandemic. Please take a piece of paper and draw a quick sketch of the spaces in your home that your children use for studying. In your sketch, please include any items that may support or hinder studying (example: furniture, windows, plant, or even people). See an example below.    Next, mark parts of the space in your sketch that you find supportive of learning with a ✔, and the parts that are distracting with a ✗ .    Please take a photo of this sketch and upload it below.  (Answer not mandatory) - Size',\n",
    "              'Imagine a regular weekday during the COVID-19 pandemic. Please take a piece of paper and draw a quick sketch of the spaces in your home that your children use for studying. In your sketch, please include any items that may support or hinder studying (example: furniture, windows, plant, or even people). See an example below.    Next, mark parts of the space in your sketch that you find supportive of learning with a ✔, and the parts that are distracting with a ✗ .    Please take a photo of this sketch and upload it below.  (Answer not mandatory) - Type']"
   ]
  },
  {
   "cell_type": "code",
   "execution_count": 4,
   "id": "a0caa8ee-7de5-4385-b62e-1948773ab3f9",
   "metadata": {},
   "outputs": [],
   "source": [
    "data = data.drop(columns=drop_columns)\n",
    "data = data.drop(0, axis=0)"
   ]
  },
  {
   "cell_type": "markdown",
   "id": "54b048a8-bb1f-4216-b49e-b8e8b8dbff7a",
   "metadata": {},
   "source": [
    "# Remove Empty Rows and Columns"
   ]
  },
  {
   "cell_type": "code",
   "execution_count": 5,
   "id": "46fda61d-6815-49c9-bbdd-1c2dbf063a3f",
   "metadata": {},
   "outputs": [],
   "source": [
    "data = data.dropna(how='all', axis=0)\n",
    "data = data.dropna(how='all', axis=1)"
   ]
  },
  {
   "cell_type": "markdown",
   "id": "03ee777c-49a1-4101-8192-b2d1de4df8ff",
   "metadata": {
    "tags": []
   },
   "source": [
    "# Merge all ages into one column"
   ]
  },
  {
   "cell_type": "markdown",
   "id": "2dbc450a-cfd7-4313-bbbd-86a7b746ffa2",
   "metadata": {
    "tags": []
   },
   "source": [
    "# Renaming the columns"
   ]
  },
  {
   "cell_type": "code",
   "execution_count": 6,
   "id": "daef48ec-dc9f-4004-b307-88ec08f8204f",
   "metadata": {
    "tags": []
   },
   "outputs": [],
   "source": [
    "rename_columns = {\"How would you best describe the area that you lived in?\": \"area-type\",\n",
    "                  'What type of house did you live in? - Selected Choice': \"house-type\",\n",
    "                  'What type of house did you live in? - Other - Text': \"house-other\" ,\n",
    "                  'What was the approximate size of your home?': \"house-size\",\n",
    "                  'Would you mind sharing the first 4 digits of your postal code?': \"postcode\",\n",
    "                  'Please mention the number of people who lived in your home during the pandemic.': \"household-size\",\n",
    "                  'Please state the ages of the people who lived in your household at the start of the pandemic (2020). - P - Age (in years).40': \"age-00\",\n",
    "                  'Please state the ages of the people who lived in your household at the start of the pandemic (2020). - P - Age (in years).41': \"age-01\",\n",
    "                  'Please state the ages of the people who lived in your household at the start of the pandemic (2020). - P - Age (in years).42': \"age-02\",\n",
    "                  'Please state the ages of the people who lived in your household at the start of the pandemic (2020). - P - Age (in years).43': \"age-03\",\n",
    "                  'Please state the ages of the people who lived in your household at the start of the pandemic (2020). - P - Age (in years).44': \"age-04\",\n",
    "                  'Please state the ages of the people who lived in your household at the start of the pandemic (2020). - P - Age (in years).45': \"age-05\",\n",
    "                  'Please state the ages of the people who lived in your household at the start of the pandemic (2020). - P - Age (in years).46': \"age-06\",\n",
    "                  'Please state the ages of the people who lived in your household at the start of the pandemic (2020). - P - Age (in years).47': \"age-07\",\n",
    "                  'Please state the ages of the people who lived in your household at the start of the pandemic (2020). - P - Age (in years).48': \"age-08\",\n",
    "                  'Please state the ages of the people who lived in your household at the start of the pandemic (2020). - P - Age (in years).49': \"age-09\",\n",
    "                  'Please state the ages of the people who lived in your household at the start of the pandemic (2020). - P - Age (in years).50': \"age-10\",\n",
    "                  'Please state the ages of the people who lived in your household at the start of the pandemic (2020). - P - Age (in years).51': \"age-11\",\n",
    "                  'Please state the ages of the people who lived in your household at the start of the pandemic (2020). - P - Age (in years).52': \"age-12\",\n",
    "                  'Please state the ages of the people who lived in your household at the start of the pandemic (2020). - P - Age (in years).53': \"age-13\",\n",
    "                  'Imagine a regular weekday during the COVID-19 pandemic. Please take a piece of paper and draw a quick sketch of the spaces in your home that your children use for studying. In your sketch, please include any items that may support or hinder studying (example: furniture, windows, plant, or even people). See an example below.    Next, mark parts of the space in your sketch that you find supportive of learning with a ✔, and the parts that are distracting with a ✗ .    Please take a photo of this sketch and upload it below.  (Answer not mandatory) - Name': \"image\",\n",
    "                  'Would you like to elaborate why you marked certain areas as distracting or supportive of learning? (Answer not mandatory)': \"image-description\",\n",
    "                  'Please consider the rooms or spaces in your home that were used for studying during the COVID-19 pandemic. How often were these spaces used for studying? - Home office': 'frequency-usage-office',\n",
    "                  'Please consider the rooms or spaces in your home that were used for studying during the COVID-19 pandemic. How often were these spaces used for studying? - Living/Dining room': 'frequency-usage-living-dining',\n",
    "                  'Please consider the rooms or spaces in your home that were used for studying during the COVID-19 pandemic. How often were these spaces used for studying? - Bedroom(s)': 'frequency-usage-bedrooms',\n",
    "                  'Please consider the rooms or spaces in your home that were used for studying during the COVID-19 pandemic. How often were these spaces used for studying? - Kitchen': 'frequency-usage-kitchen',\n",
    "                  'Please consider the rooms or spaces in your home that were used for studying during the COVID-19 pandemic. How often were these spaces used for studying? - Balcony/Garden': 'frequency-usage-outdoors',\n",
    "                  'Please consider the rooms or spaces in your home that were used for studying during the COVID-19 pandemic. How often were these spaces used for studying? - Attic/Basement': 'frequency-usage-berging',\n",
    "                  'Q128 - Often too hot': \"living-dining-hot\", \n",
    "                  'Q128 - Often too cold': \"living-dining-cold\",\n",
    "                  'Q128 - Often too humid': \"living-dining-humid\",\n",
    "                  'Q128 - Often felt fresh': \"living-dining-fresh\",\n",
    "                  'Q128 - Often very noisy': \"living-dining-noisy\",\n",
    "                  'Q128 - Often poorly lit': \"living-dining-poorly-lit\",\n",
    "                  'Q128 - Often well lit': \"living-dining-well-lit\",\n",
    "                  'Q129 - The wifi  in the living/dining was suitable for studying': \"living-dining-wifi\",\n",
    "                  'Q130 - The living/dining area was often used for studying alone': \"living-dining-often-used\",\n",
    "                  'Q110 - Often too hot': \"office-hot\",\n",
    "                  'Q110 - Often too cold': \"office-cold\",\n",
    "                  'Q110 - Often too humid': \"office-humid\",\n",
    "                  'Q110 - Often felt fresh': \"office-fresh\",\n",
    "                  'Q110 - Often very noisy': \"office-noisy\",\n",
    "                  'Q110 - Often poorly lit': \"office-poorly-lit\",\n",
    "                  'Q110 - Often well lit': \"office-well-lit\",\n",
    "                  'Q111 - The wifi in the home office was suitable for studying': \"office-wifi\",\n",
    "                  'Q112 - The home office was often used for studying alone': \"office-often-used\",\n",
    "                  'Q73 - Often too hot': \"bedroom-hot\",\n",
    "                  'Q73 - Often too cold': \"bedroom-cold\",\n",
    "                  'Q73 - Often too humid': \"bedroom-humid\",\n",
    "                  'Q73 - Often felt fresh': \"bedroom-fresh\",\n",
    "                  'Q73 - Often very noisy': \"bedroom-noisy\",\n",
    "                  'Q73 - Often poorly lit': \"bedroom-poorly-lit\",\n",
    "                  'Q73 - Often well lit': \"bedroom-well-lit\",\n",
    "                  'Q76 - The wifi in the bedrooms was suitable for studying': \"bedroom-wifi\",\n",
    "                  'Q77 - Bedrooms were often used for studying alone': \"bedroom-often-used\",\n",
    "                  'Q114 - Often too hot': \"kitchen-hot\",\n",
    "                  'Q114 - Often too cold': \"kitchen-cold\",\n",
    "                  'Q114 - Often too humid': \"kitchen-humid\",\n",
    "                  'Q114 - Often felt fresh': \"kitchen-fresh\",\n",
    "                  'Q114 - Often very noisy': \"kitchen-noisy\",\n",
    "                  'Q114 - Often poorly lit': \"kitchen-poorly-lit\",\n",
    "                  'Q114 - Often well lit': \"kitchen-well-lit\",\n",
    "                  'Q115 - The wifi  in the kitchen was suitable for studying': \"kitchen-wifi\",\n",
    "                  'Q116 - The kitchen was often used for studying alone': \"kitchen-often-used\",\n",
    "                  'Q132 - Often too hot': \"outdoor-hot\",\n",
    "                  'Q132 - Often too cold': \"outdoor-cold\",\n",
    "                  'Q132 - Often too humid': \"outdoor-humid\",\n",
    "                  'Q132 - Often felt fresh': \"outdoor-fresh\",\n",
    "                  'Q132 - Often very noisy': \"outdoor-noisy\",\n",
    "                  'Q132 - Often poorly lit': \"outdoor-poorly-lit\",\n",
    "                  'Q132 - Often well lit': \"outdoor-well-lit\",\n",
    "                  'Q133 - The wifi  in the balcony/garden was suitable for studying': \"outdoor-wifi\",\n",
    "                  'Q134 - The balcony/garden was often used for studying alone': \"outdoor-often-used\",\n",
    "                  'Q136 - Often too hot': \"berging-hot\",\n",
    "                  'Q136 - Often too cold': \"berging-cold\",\n",
    "                  'Q136 - Often too humid': \"berging-humid\",\n",
    "                  'Q136 - Often felt fresh': \"berging-fresh\",\n",
    "                  'Q136 - Often very noisy': \"berging-noisy\",\n",
    "                  'Q136 - Often poorly lit': \"berging-poorly-lit\",\n",
    "                  'Q136 - Often well lit': \"berging-well-lit\",\n",
    "                  'Q137 - The wifi in the attic/basement was suitable for studying': \"berging-wifi\",\n",
    "                  'Q138 - The attic/basement was often used for studying alone': \"berging-often-used\",\n",
    "                  'Have any children in your home been diagnosed with a learning disability?  (Answer not mandatory)': \"learning-disability\",\n",
    "                  'Could you mention what other learning disability/disabilities the children in your home have been diagnosed with?  (Answer not mandatory)': \"learning-disability-other\",\n",
    "                  'Have you attempted to improve the learning spaces in your home to better accommodate for the learning disability?  If so, would you like to elaborate what changes were made?  (Answer not mandatory)': \"learning-disability-changes\",\n",
    "                  'Please select the items that were available for studying in your home during the pandemic.  (Answer not mandatory)': \"items-available\",\n",
    "                  'Many families had to modify the study spaces in their homes during the pandemic so that children could study from home. How do you feel about the following statement: - We spent a lot of time on improving the study spaces': \"spent-time-improving-space\",\n",
    "                  'How much money do you estimate was spent on making changes to the study spaces in your home during the pandemic?': \"money-spent\",\n",
    "                  'What types of changes did you make to the study space(s) to accommodate for studying at home during the pandemic?': \"pandemic-changes\",\n",
    "                  'During the pandemic was there anything you wanted to improve in the study space(s), but couldn\\'t due to resource constraints?': \"improve-space-constrain\",\n",
    "                  'How happy were you overall with the study space(s) in your home during the pandemic?': \"space-happy\",\n",
    "                  'COVID-19 lockdowns have ended and children are once again going to schools. But the option to study from home could be a possibility in the future.  How many days per week do you believe your child/children can study from home (considering any factors such as work constraints, your children\\'s learning capacity etc.)?  (Answer not mandatory)': \"no-days-home\",\n",
    "                  'Did you (guardian) fill in the survey alone, or together with the children?  (Answer not mandatory)':\"alone(y/n)\",\n",
    "                  'We appreciate your responses and the time you have taken to answer our questions! If you have any questions about the research, you may contact Titus van der Valk at t.j.vandervalk@uva.nl.     Future Interview:  Would you be willing to participate in a future interview with our researchers? If you consent, we will ask you to provide your email address so that we can contact you.    €100 Bol Prize Draw:  As a token of our appreciation, we would like to randomly award 10 respondents with a €100 Bol gift card! Would you like to participate in this prize draw?   We will ask you to provide your email address so that we can contact you in the event that you win.    Please note that at all times, your email address will be stored separately from your survey responses, so that you remain anonymous. (Answer not mandatory)': \"next-steps\"\n",
    "                 }"
   ]
  },
  {
   "cell_type": "code",
   "execution_count": 7,
   "id": "f1bc6163-5a5c-4513-a20d-20751766aee8",
   "metadata": {},
   "outputs": [],
   "source": [
    "data = data.rename(columns=rename_columns)"
   ]
  },
  {
   "cell_type": "code",
   "execution_count": 8,
   "id": "ac37c78d-e382-45a5-9c5f-31815b3c42ff",
   "metadata": {},
   "outputs": [
    {
     "data": {
      "text/plain": [
       "(22, 91)"
      ]
     },
     "execution_count": 8,
     "metadata": {},
     "output_type": "execute_result"
    }
   ],
   "source": [
    "data.shape"
   ]
  },
  {
   "cell_type": "markdown",
   "id": "75c6942f-31a3-404b-8237-fa51107973ad",
   "metadata": {
    "tags": []
   },
   "source": [
    "# Re-format Columns"
   ]
  },
  {
   "cell_type": "code",
   "execution_count": 9,
   "id": "f9a1c069-420e-4693-886b-c5aa4535507b",
   "metadata": {},
   "outputs": [],
   "source": [
    "data['ages'] = data[data.filter(regex=\"age-\\d+\").columns].apply(\n",
    "    lambda x: ','.join(x.dropna()), axis=1)\n",
    "data.filter(regex=\"age-\\d+\").columns\n",
    "data = data.drop(columns=data.filter(regex=\"age-\\d+\").columns)"
   ]
  },
  {
   "cell_type": "markdown",
   "id": "0f445303-92c1-48c6-a509-f6674187ace9",
   "metadata": {},
   "source": [
    "### No of changes made in Pandemic Times"
   ]
  },
  {
   "cell_type": "code",
   "execution_count": 10,
   "id": "cad4e71c-b413-49ed-8d20-a0ee360a8cb7",
   "metadata": {},
   "outputs": [],
   "source": [
    "def convert_to_list(row):\n",
    "    if str(row)!= 'nan':\n",
    "        return row.split(',')\n",
    "\n",
    "data['pandemic-changes'] = data['pandemic-changes'].apply(lambda x: convert_to_list(x))\n",
    "data['no-of-pandemic-changes'] = data['pandemic-changes'].str.len()"
   ]
  },
  {
   "cell_type": "markdown",
   "id": "6d1053f9-dbac-42ea-af7d-06acd6933465",
   "metadata": {},
   "source": [
    "# Save Cleaned Data"
   ]
  },
  {
   "cell_type": "code",
   "execution_count": 11,
   "id": "fc9850ce-d918-4924-bf4b-f5f9b6e0d0a8",
   "metadata": {},
   "outputs": [],
   "source": [
    "data.to_csv('data/cleaned_20330202.csv')"
   ]
  }
 ],
 "metadata": {
  "kernelspec": {
   "display_name": "venv",
   "language": "python",
   "name": "venv"
  },
  "language_info": {
   "codemirror_mode": {
    "name": "ipython",
    "version": 3
   },
   "file_extension": ".py",
   "mimetype": "text/x-python",
   "name": "python",
   "nbconvert_exporter": "python",
   "pygments_lexer": "ipython3",
   "version": "3.10.6"
  }
 },
 "nbformat": 4,
 "nbformat_minor": 5
}
