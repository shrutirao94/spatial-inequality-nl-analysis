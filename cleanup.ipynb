{
 "cells": [
  {
   "cell_type": "markdown",
   "id": "0974601c-a06e-41cf-bbc4-ab46824a1235",
   "metadata": {},
   "source": [
    "# Cleanup Methodology\n",
    "\n",
    "1. Delete the first 17 columns\n",
    "2. Delete rows 1 and 2\n",
    "3. Delete rows that have 0 information\n",
    "4. Delete columns that have 0 information\n",
    "5. \"Please consider the rooms or spaces in your home that were used for studying during the COVID-19 pandemic. How often were these spaces used for studying? - Home office\" --> Home office\n",
    "6. Categorise Environment questions into space groups. \n",
    "7. \"Many families had to modify the study spaces in their homes during the pandemic so that children could study from home. How do you feel about the following statement: -We spent a lot of time on improving the study spaces\" --> We spent a lot of time on improving the study spaces\n",
    "8. \n",
    "\n",
    "\n",
    "\n",
    "\n",
    "Some analysis for the image retrival "
   ]
  },
  {
   "cell_type": "code",
   "execution_count": 57,
   "id": "582d7aba-c722-4045-af4b-73564ccd7c8d",
   "metadata": {},
   "outputs": [],
   "source": [
    "import pandas as pd\n",
    "import numpy as np\n",
    "\n",
    "pd.set_option('display.max_rows', None)\n",
    "pd.set_option('display.max_columns', None)"
   ]
  },
  {
   "cell_type": "code",
   "execution_count": 58,
   "id": "50e87ef6-1ad6-4656-9d5f-53f2a52da606",
   "metadata": {},
   "outputs": [],
   "source": [
    "data = pd.read_csv(\"data/2033-02-02.csv\", header=1)"
   ]
  },
  {
   "cell_type": "code",
   "execution_count": 59,
   "id": "0783c814-d1d8-472e-9c51-c7df648dfd57",
   "metadata": {},
   "outputs": [
    {
     "data": {
      "text/plain": [
       "Index(['Start Date', 'End Date', 'Response Type', 'IP Address', 'Progress',\n",
       "       'Duration (in seconds)', 'Finished', 'Recorded Date', 'Response ID',\n",
       "       'Recipient Last Name',\n",
       "       ...\n",
       "       'Have you attempted to improve the learning spaces in your home to better accommodate for the learning disability?  If so, would you like to elaborate what changes were made?  (Answer not mandatory)',\n",
       "       'Please select the items that were available for studying in your home during the pandemic.  (Answer not mandatory)',\n",
       "       'Many families had to modify the study spaces in their homes during the pandemic so that children could study from home. How do you feel about the following statement: - We spent a lot of time on improving the study spaces',\n",
       "       'How much money do you estimate was spent on making changes to the study spaces in your home during the pandemic?',\n",
       "       'What types of changes did you make to the study space(s) to accommodate for studying at home during the pandemic?',\n",
       "       'During the pandemic was there anything you wanted to improve in the study space(s), but couldn't due to resource constraints?',\n",
       "       'How happy were you overall with the study space(s) in your home during the pandemic?',\n",
       "       'COVID-19 lockdowns have ended and children are once again going to schools. But the option to study from home could be a possibility in the future.  How many days per week do you believe your child/children can study from home (considering any factors such as work constraints, your children's learning capacity etc.)?  (Answer not mandatory)',\n",
       "       'Did you (guardian) fill in the survey alone, or together with the children?  (Answer not mandatory)',\n",
       "       'We appreciate your responses and the time you have taken to answer our questions! If you have any questions about the research, you may contact Titus van der Valk at t.j.vandervalk@uva.nl.     Future Interview:  Would you be willing to participate in a future interview with our researchers? If you consent, we will ask you to provide your email address so that we can contact you.    €100 Bol Prize Draw:  As a token of our appreciation, we would like to randomly award 10 respondents with a €100 Bol gift card! Would you like to participate in this prize draw?   We will ask you to provide your email address so that we can contact you in the event that you win.    Please note that at all times, your email address will be stored separately from your survey responses, so that you remain anonymous. (Answer not mandatory)'],\n",
       "      dtype='object', length=156)"
      ]
     },
     "execution_count": 59,
     "metadata": {},
     "output_type": "execute_result"
    }
   ],
   "source": [
    "data.columns"
   ]
  },
  {
   "cell_type": "code",
   "execution_count": 60,
   "id": "37df51c4-8768-4230-886c-bd151ff20961",
   "metadata": {},
   "outputs": [],
   "source": [
    "drop_columns=['Start Date', 'End Date', 'Response Type', 'IP Address', 'Progress',\n",
    "              'Duration (in seconds)', 'Finished', 'Recorded Date', 'Response ID',\n",
    "              'Recipient Last Name', 'Recipient First Name', 'Recipient Email',\n",
    "              'External Data Reference','Location Latitude', 'Location Longitude',\n",
    "              'Distribution Channel','User Language']"
   ]
  },
  {
   "cell_type": "code",
   "execution_count": 61,
   "id": "a0caa8ee-7de5-4385-b62e-1948773ab3f9",
   "metadata": {},
   "outputs": [],
   "source": [
    "data = data.drop(columns=drop_columns)"
   ]
  },
  {
   "cell_type": "code",
   "execution_count": 62,
   "id": "98b2f51d-27e7-4995-a392-425437bf5bab",
   "metadata": {},
   "outputs": [],
   "source": [
    "data = data.drop(0, axis=0)"
   ]
  },
  {
   "cell_type": "markdown",
   "id": "c0c04aa1-8f87-418c-9aa9-5260ed6889aa",
   "metadata": {},
   "source": [
    "## Remove Columns that are completely empty"
   ]
  },
  {
   "cell_type": "code",
   "execution_count": 63,
   "id": "74ad7c86-8af9-4a33-9b99-a6d0ced964ad",
   "metadata": {},
   "outputs": [],
   "source": [
    "data = data.dropna(how='all', axis=1)"
   ]
  },
  {
   "cell_type": "markdown",
   "id": "2dbc450a-cfd7-4313-bbbd-86a7b746ffa2",
   "metadata": {
    "tags": []
   },
   "source": [
    "### Renaming the columns"
   ]
  },
  {
   "cell_type": "code",
   "execution_count": 65,
   "id": "0b13b513-8fb1-4819-a9c8-69eb84ddf4e6",
   "metadata": {},
   "outputs": [
    {
     "name": "stdout",
     "output_type": "stream",
     "text": [
      "Index(['How would you best describe the area that you lived in?',\n",
      "       'What type of house did you live in? - Selected Choice',\n",
      "       'What was the approximate size of your home?',\n",
      "       'Would you mind sharing the first 4 digits of your postal code?',\n",
      "       'Please mention the number of people who lived in your home during the pandemic.',\n",
      "       'Please state the ages of the people who lived in your household at the start of the pandemic (2020). - P - Age (in years).40',\n",
      "       'Please state the ages of the people who lived in your household at the start of the pandemic (2020). - P - Age (in years).41',\n",
      "       'Please state the ages of the people who lived in your household at the start of the pandemic (2020). - P - Age (in years).42',\n",
      "       'Please state the ages of the people who lived in your household at the start of the pandemic (2020). - P - Age (in years).43',\n",
      "       'Please state the ages of the people who lived in your household at the start of the pandemic (2020). - P - Age (in years).44',\n",
      "       'Please state the ages of the people who lived in your household at the start of the pandemic (2020). - P - Age (in years).45',\n",
      "       'Please state the ages of the people who lived in your household at the start of the pandemic (2020). - P - Age (in years).46',\n",
      "       'Please state the ages of the people who lived in your household at the start of the pandemic (2020). - P - Age (in years).47',\n",
      "       'Please state the ages of the people who lived in your household at the start of the pandemic (2020). - P - Age (in years).48',\n",
      "       'Please state the ages of the people who lived in your household at the start of the pandemic (2020). - P - Age (in years).49',\n",
      "       'Please state the ages of the people who lived in your household at the start of the pandemic (2020). - P - Age (in years).50',\n",
      "       'Please state the ages of the people who lived in your household at the start of the pandemic (2020). - P - Age (in years).51',\n",
      "       'Please state the ages of the people who lived in your household at the start of the pandemic (2020). - P - Age (in years).52',\n",
      "       'Please state the ages of the people who lived in your household at the start of the pandemic (2020). - P - Age (in years).53',\n",
      "       'Imagine a regular weekday during the COVID-19 pandemic. Please take a piece of paper and draw a quick sketch of the spaces in your home that your children use for studying. In your sketch, please include any items that may support or hinder studying (example: furniture, windows, plant, or even people). See an example below.    Next, mark parts of the space in your sketch that you find supportive of learning with a ✔, and the parts that are distracting with a ✗ .    Please take a photo of this sketch and upload it below.  (Answer not mandatory) - ID',\n",
      "       'Imagine a regular weekday during the COVID-19 pandemic. Please take a piece of paper and draw a quick sketch of the spaces in your home that your children use for studying. In your sketch, please include any items that may support or hinder studying (example: furniture, windows, plant, or even people). See an example below.    Next, mark parts of the space in your sketch that you find supportive of learning with a ✔, and the parts that are distracting with a ✗ .    Please take a photo of this sketch and upload it below.  (Answer not mandatory) - Name',\n",
      "       'Imagine a regular weekday during the COVID-19 pandemic. Please take a piece of paper and draw a quick sketch of the spaces in your home that your children use for studying. In your sketch, please include any items that may support or hinder studying (example: furniture, windows, plant, or even people). See an example below.    Next, mark parts of the space in your sketch that you find supportive of learning with a ✔, and the parts that are distracting with a ✗ .    Please take a photo of this sketch and upload it below.  (Answer not mandatory) - Size',\n",
      "       'Imagine a regular weekday during the COVID-19 pandemic. Please take a piece of paper and draw a quick sketch of the spaces in your home that your children use for studying. In your sketch, please include any items that may support or hinder studying (example: furniture, windows, plant, or even people). See an example below.    Next, mark parts of the space in your sketch that you find supportive of learning with a ✔, and the parts that are distracting with a ✗ .    Please take a photo of this sketch and upload it below.  (Answer not mandatory) - Type',\n",
      "       'Would you like to elaborate why you marked certain areas as distracting or supportive of learning? (Answer not mandatory)',\n",
      "       'Please consider the rooms or spaces in your home that were used for studying during the COVID-19 pandemic. How often were these spaces used for studying? - Home office',\n",
      "       'Please consider the rooms or spaces in your home that were used for studying during the COVID-19 pandemic. How often were these spaces used for studying? - Living/Dining room',\n",
      "       'Please consider the rooms or spaces in your home that were used for studying during the COVID-19 pandemic. How often were these spaces used for studying? - Bedroom(s)',\n",
      "       'Please consider the rooms or spaces in your home that were used for studying during the COVID-19 pandemic. How often were these spaces used for studying? - Kitchen',\n",
      "       'Please consider the rooms or spaces in your home that were used for studying during the COVID-19 pandemic. How often were these spaces used for studying? - Balcony/Garden',\n",
      "       'Please consider the rooms or spaces in your home that were used for studying during the COVID-19 pandemic. How often were these spaces used for studying? - Attic/Basement',\n",
      "       'Q128 - Often too hot', 'Q128 - Often too cold',\n",
      "       'Q128 - Often too humid', 'Q128 - Often felt fresh',\n",
      "       'Q128 - Often very noisy', 'Q128 - Often poorly lit',\n",
      "       'Q128 - Often well lit',\n",
      "       'Q129 - The wifi  in the living/dining was suitable for studying',\n",
      "       'Q130 - The living/dining area was often used for studying alone',\n",
      "       'Q110 - Often too hot', 'Q110 - Often too cold',\n",
      "       'Q110 - Often too humid', 'Q110 - Often felt fresh',\n",
      "       'Q110 - Often very noisy', 'Q110 - Often poorly lit',\n",
      "       'Q110 - Often well lit',\n",
      "       'Q111 - The wifi in the home office was suitable for studying',\n",
      "       'Q112 - The home office was often used for studying alone',\n",
      "       'Q73 - Often too hot', 'Q73 - Often too cold', 'Q73 - Often too humid',\n",
      "       'Q73 - Often felt fresh', 'Q73 - Often very noisy',\n",
      "       'Q73 - Often poorly lit', 'Q73 - Often well lit',\n",
      "       'Q76 - The wifi in the bedrooms was suitable for studying',\n",
      "       'Q77 - Bedrooms were often used for studying alone',\n",
      "       'Q114 - Often too hot', 'Q114 - Often too cold',\n",
      "       'Q114 - Often too humid', 'Q114 - Often felt fresh',\n",
      "       'Q114 - Often very noisy', 'Q114 - Often poorly lit',\n",
      "       'Q114 - Often well lit',\n",
      "       'Q115 - The wifi  in the kitchen was suitable for studying',\n",
      "       'Q116 - The kitchen was often used for studying alone',\n",
      "       'Q132 - Often too hot', 'Q132 - Often too cold',\n",
      "       'Q132 - Often too humid', 'Q132 - Often felt fresh',\n",
      "       'Q132 - Often very noisy', 'Q132 - Often poorly lit',\n",
      "       'Q132 - Often well lit',\n",
      "       'Q133 - The wifi  in the balcony/garden was suitable for studying',\n",
      "       'Q134 - The balcony/garden was often used for studying alone',\n",
      "       'Q136 - Often too hot', 'Q136 - Often too cold',\n",
      "       'Q136 - Often too humid', 'Q136 - Often felt fresh',\n",
      "       'Q136 - Often very noisy', 'Q136 - Often poorly lit',\n",
      "       'Q136 - Often well lit',\n",
      "       'Q137 - The wifi in the attic/basement was suitable for studying',\n",
      "       'Q138 - The attic/basement was often used for studying alone',\n",
      "       'Have any children in your home been diagnosed with a learning disability?  (Answer not mandatory)',\n",
      "       'Please select the items that were available for studying in your home during the pandemic.  (Answer not mandatory)',\n",
      "       'Many families had to modify the study spaces in their homes during the pandemic so that children could study from home. How do you feel about the following statement: - We spent a lot of time on improving the study spaces',\n",
      "       'How much money do you estimate was spent on making changes to the study spaces in your home during the pandemic?',\n",
      "       'What types of changes did you make to the study space(s) to accommodate for studying at home during the pandemic?',\n",
      "       'During the pandemic was there anything you wanted to improve in the study space(s), but couldn't due to resource constraints?',\n",
      "       'How happy were you overall with the study space(s) in your home during the pandemic?',\n",
      "       'COVID-19 lockdowns have ended and children are once again going to schools. But the option to study from home could be a possibility in the future.  How many days per week do you believe your child/children can study from home (considering any factors such as work constraints, your children's learning capacity etc.)?  (Answer not mandatory)',\n",
      "       'Did you (guardian) fill in the survey alone, or together with the children?  (Answer not mandatory)',\n",
      "       'We appreciate your responses and the time you have taken to answer our questions! If you have any questions about the research, you may contact Titus van der Valk at t.j.vandervalk@uva.nl.     Future Interview:  Would you be willing to participate in a future interview with our researchers? If you consent, we will ask you to provide your email address so that we can contact you.    €100 Bol Prize Draw:  As a token of our appreciation, we would like to randomly award 10 respondents with a €100 Bol gift card! Would you like to participate in this prize draw?   We will ask you to provide your email address so that we can contact you in the event that you win.    Please note that at all times, your email address will be stored separately from your survey responses, so that you remain anonymous. (Answer not mandatory)'],\n",
      "      dtype='object')\n"
     ]
    }
   ],
   "source": [
    "print(data.columns)"
   ]
  },
  {
   "cell_type": "code",
   "execution_count": 39,
   "id": "daef48ec-dc9f-4004-b307-88ec08f8204f",
   "metadata": {},
   "outputs": [],
   "source": [
    "rename_columns = {\"How would you best describe the area that you lived in?\": \"area-type\",\n",
    "                  'What type of house did you live in? - Selected Choice': \"house-type\",\n",
    "                  'What type of house did you live in? - Other - Text': \"house-other\" ,\n",
    "                  'What was the approximate size of your home?': \"house-size\",\n",
    "                  'Would you mind sharing the first 4 digits of your postal code?': \"postcode\",\n",
    "                  'Please mention the number of people who lived in your home during the pandemic.': \"household-size\",\n",
    "                  'Please mention the number of people who lived in your home during the pandemic.',\n",
    "                  'Please state the ages of the people who lived in your household at the start of the pandemic (2020). - P - Age (in years).40',\n",
    "                  'Please state the ages of the people who lived in your household at the start of the pandemic (2020). - P - Age (in years).41',\n",
    "                  'Please state the ages of the people who lived in your household at the start of the pandemic (2020). - P - Age (in years).42',\n",
    "                  'Please state the ages of the people who lived in your household at the start of the pandemic (2020). - P - Age (in years).43',\n",
    "       'Please state the ages of the people who lived in your household at the start of the pandemic (2020). - P - Age (in years).44',\n",
    "       'Please state the ages of the people who lived in your household at the start of the pandemic (2020). - P - Age (in years).45',\n",
    "       'Please state the ages of the people who lived in your household at the start of the pandemic (2020). - P - Age (in years).46',\n",
    "       'Please state the ages of the people who lived in your household at the start of the pandemic (2020). - P - Age (in years).47',\n",
    "       'Please state the ages of the people who lived in your household at the start of the pandemic (2020). - P - Age (in years).48',\n",
    "       'Please state the ages of the people who lived in your household at the start of the pandemic (2020). - P - Age (in years).49',\n",
    "       'Please state the ages of the people who lived in your household at the start of the pandemic (2020). - P - Age (in years).50',\n",
    "       'Please state the ages of the people who lived in your household at the start of the pandemic (2020). - P - Age (in years).51',\n",
    "       'Please state the ages of the people who lived in your household at the start of the pandemic (2020). - P - Age (in years).52',\n",
    "       'Please state the ages of the people who lived in your household at the start of the pandemic (2020). - P - Age (in years).53',\n",
    "                  'Have any children in your home been diagnosed with a learning disability?  (Answer not mandatory)': \"learning-disability\",\n",
    "                  'Could you mention what other learning disability/disabilities the children in your home have been diagnosed with?  (Answer not mandatory)': \"learning-disability-other\",\n",
    "                  'Have you attempted to improve the learning spaces in your home to better accommodate for the learning disability?  If so, would you like to elaborate what changes were made?  (Answer not mandatory)': \"learning-disability-changes\",\n",
    "                  'Please select the items that were available for studying in your home during the pandemic.  (Answer not mandatory)': \"items-available\",\n",
    "                  'Many families had to modify the study spaces in their homes during the pandemic so that children could study from home. How do you feel about the following statement: - We spent a lot of time on improving the study spaces': \"spent-time-improving-space\",\n",
    "                  'How much money do you estimate was spent on making changes to the study spaces in your home during the pandemic?': \"money-spent\",\n",
    "                  'What types of changes did you make to the study space(s) to accommodate for studying at home during the pandemic?': \"pandemic-changes\",\n",
    "                  'During the pandemic was there anything you wanted to improve in the study space(s), but couldn\\'t due to resource constraints?': \"improve-space-constrain\",\n",
    "                  'How happy were you overall with the study space(s) in your home during the pandemic?': \"space-happy\",\n",
    "                  'COVID-19 lockdowns have ended and children are once again going to schools. But the option to study from home could be a possibility in the future.  How many days per week do you believe your child/children can study from home (considering any factors such as work constraints, your children\\'s learning capacity etc.)?  (Answer not mandatory)': \"no-days-home\",\n",
    "                  'Did you (guardian) fill in the survey alone, or together with the children?  (Answer not mandatory)':\"alone(y/n)\",\n",
    "                  'We appreciate your responses and the time you have taken to answer our questions! If you have any questions about the research, you may contact Titus van der Valk at t.j.vandervalk@uva.nl.     Future Interview:  Would you be willing to participate in a future interview with our researchers? If you consent, we will ask you to provide your email address so that we can contact you.    €100 Bol Prize Draw:  As a token of our appreciation, we would like to randomly award 10 respondents with a €100 Bol gift card! Would you like to participate in this prize draw?   We will ask you to provide your email address so that we can contact you in the event that you win.    Please note that at all times, your email address will be stored separately from your survey responses, so that you remain anonymous. (Answer not mandatory)': \"next-steps\"\n",
    "                 }"
   ]
  },
  {
   "cell_type": "code",
   "execution_count": null,
   "id": "f1bc6163-5a5c-4513-a20d-20751766aee8",
   "metadata": {},
   "outputs": [],
   "source": []
  },
  {
   "cell_type": "code",
   "execution_count": null,
   "id": "ac37c78d-e382-45a5-9c5f-31815b3c42ff",
   "metadata": {},
   "outputs": [],
   "source": []
  }
 ],
 "metadata": {
  "kernelspec": {
   "display_name": "venv",
   "language": "python",
   "name": "venv"
  },
  "language_info": {
   "codemirror_mode": {
    "name": "ipython",
    "version": 3
   },
   "file_extension": ".py",
   "mimetype": "text/x-python",
   "name": "python",
   "nbconvert_exporter": "python",
   "pygments_lexer": "ipython3",
   "version": "3.10.6"
  }
 },
 "nbformat": 4,
 "nbformat_minor": 5
}
